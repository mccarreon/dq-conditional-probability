{
 "cells": [
  {
   "cell_type": "markdown",
   "metadata": {},
   "source": [
    "# Conditional Probability Fundamentals\n",
    "\n",
    "**Conditional probability** is calculating probabilities based on certain **conditions**. \n",
    "\n",
    "For example, if we rolled a die and we know the number shown is odd (1, 3, or 5), then P(5) is no longer 1/6. It becomes 1/3 because there are now three outcomes, {1, 3, 5}.\n",
    "\n",
    "For notation simplicity, we can write P(5 given the die showed an odd number) as P(5|odd), which reads as the probability of 5 happening given the die shows an odd number. \n",
    "\n",
    "## Conditional Probability Formula\n",
    "\n",
    "Let's say we're rolling a six-sided die and want to find the probability of getting an odd number, given the die showed a number greater than 1 after landing. We want to find P(A|B) where:\n",
    "* **A** is the event where the number is odd: A = {1, 3, 5}\n",
    "* **B** is the event where that the number is greater than 1: B = {2, 3, 4, 5, 6}\n",
    "* P(A|B) = successful outcomes / possible outcomes\n",
    "\n",
    "We know for sure that event B happened, so the sample space is reduced to {2, 3, 4, 5, 6}. So,\n",
    "* Total outcomes = 5\n",
    "\n",
    "The number of elements in a set ist he **cardinal** of the set. So the cardinal of $\\Omega$ = {2,3,4,5,6} is 5. This is shown as card($\\Omega$). Given this, we can rewrite our formula:\n",
    "* P(A|B) = successful outcomes / card(B)\n",
    "\n",
    "Since we're concerned about getting an odd number, given that B has already happened we know that the only odd numbers left are 3 and 5. This is the result of A $\\cap$ B = {3,5}. So, we can rewrite the formula again as:\n",
    "* P(A|B) = card(A $\\cap$ B) / card(B)\n",
    "* P(A|B) = P(A $\\cap$ B) / P(B)"
   ]
  }
 ],
 "metadata": {
  "kernelspec": {
   "display_name": "Python 3",
   "language": "python",
   "name": "python3"
  },
  "language_info": {
   "codemirror_mode": {
    "name": "ipython",
    "version": 3
   },
   "file_extension": ".py",
   "mimetype": "text/x-python",
   "name": "python",
   "nbconvert_exporter": "python",
   "pygments_lexer": "ipython3",
   "version": "3.7.6"
  }
 },
 "nbformat": 4,
 "nbformat_minor": 4
}
